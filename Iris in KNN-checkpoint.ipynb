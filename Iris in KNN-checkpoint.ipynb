{
 "cells": [
  {
   "cell_type": "code",
   "execution_count": 4,
   "metadata": {},
   "outputs": [],{
 "cells": [
  {
   "cell_type": "code",
   "execution_count": 4,
   "metadata": {},
   "outputs": [],
   "source": [
    "import numpy as np\n",
    "import matplotlib.pyplot as plt\n",
    "from matplotlib.colors import ListedColormap\n",
    "from sklearn import neighbors, datasets"
   ]
  },
  {
   "cell_type": "code",
   "execution_count": 11,
   "metadata": {},
   "outputs": [],
   "source": [
    "iris = datasets.load_iris()"
   ]
  },
  {
   "cell_type": "code",
   "execution_count": 35,
   "metadata": {},
   "outputs": [],
   "source": [
    "x = iris.data[:,:2]\n",
    "y = iris.target"
   ]
  },
  {
   "cell_type": "code",
   "execution_count": 38,
   "metadata": {},
   "outputs": [],
   "source": [
    "#iris"
   ]
  },
  {
   "cell_type": "code",
   "execution_count": null,
   "metadata": {},
   "outputs": [],
   "source": [
    "#Training(Fitting)"
   ]
  },
  {
   "cell_type": "code",
   "execution_count": 40,
   "metadata": {},
   "outputs": [],
   "source": [
    "n_neighbors = 15"
   ]
  },
  {
   "cell_type": "code",
   "execution_count": null,
   "metadata": {},
   "outputs": [],
   "source": [
    "# building the classifier"
   ]
  },
  {
   "cell_type": "code",
   "execution_count": 66,
   "metadata": {},
   "outputs": [],
   "source": [
    "#for weights in ['uniform', 'distance']:\n",
    "\n",
    "weights = 'uniforms'"
   ]
  },
  {
   "cell_type": "code",
   "execution_count": 67,
   "metadata": {},
   "outputs": [],
   "source": [
    "clf = neighbors.KNeighborsClassifier(n_neighbors, weights='uniform', algorithm='kd_tree')"
   ]
  },
  {
   "cell_type": "code",
   "execution_count": 68,
   "metadata": {},
   "outputs": [
    {
     "data": {
      "text/plain": [
       "KNeighborsClassifier(algorithm='kd_tree', leaf_size=30, metric='minkowski',\n",
       "           metric_params=None, n_jobs=1, n_neighbors=15, p=2,\n",
       "           weights='uniform')"
      ]
     },
     "execution_count": 68,
     "metadata": {},
     "output_type": "execute_result"
    }
   ],
   "source": [
    "clf.fit(x,y)"
   ]
  },
  {
   "cell_type": "code",
   "execution_count": 69,
   "metadata": {},
   "outputs": [],
   "source": [
    "#Testing"
   ]
  },
  {
   "cell_type": "code",
   "execution_count": 70,
   "metadata": {},
   "outputs": [],
   "source": [
    "n_neighbors = 15"
   ]
  },
  {
   "cell_type": "code",
   "execution_count": 71,
   "metadata": {},
   "outputs": [],
   "source": [
    "x_min, x_max = x[:,0].min()-1, x[:,0].max()+1\n",
    "y_min, y_max = x[:,1].min()-1, x[:,1].max()+1\n",
    "xx ,yy = np.meshgrid(np.arange(x_min, x_max, 0.02), np.arange(y_min, y_max, 0.02))"
   ]
  },
  {
   "cell_type": "code",
   "execution_count": 72,
   "metadata": {},
   "outputs": [],
   "source": [
    "z = clf.predict(np.c_[xx.ravel(), yy.ravel()])"
   ]
  },
  {
   "cell_type": "code",
   "execution_count": 73,
   "metadata": {},
   "outputs": [
    {
     "data": {
      "text/plain": [
       "array([0, 0, 0, ..., 2, 2, 2])"
      ]
     },
     "execution_count": 73,
     "metadata": {},
     "output_type": "execute_result"
    }
   ],
   "source": [
    "z"
   ]
  },
  {
   "cell_type": "code",
   "execution_count": 74,
   "metadata": {},
   "outputs": [],
   "source": [
    "cmap_light = ListedColormap(['#FFAAAA', '#AAFFAA', '#AAAAFF'])\n",
    "cmap_bold = ListedColormap(['#FF0000', '#00FF00', '#0000FF'])"
   ]
  },
  {
   "cell_type": "code",
   "execution_count": 81,
   "metadata": {},
   "outputs": [
    {
     "data": {
      "text/plain": [
       "Text(0.5,1,\"3-Class classification (k = 15, weights = 'uniforms')\")"
      ]
     },
     "execution_count": 81,
     "metadata": {},
     "output_type": "execute_result"
    },
    {
     "data": {
      "image/png": "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\n",
      "text/plain": [
       "<Figure size 432x288 with 1 Axes>"
      ]
     },
     "metadata": {},
     "output_type": "display_data"
    }
   ],
   "source": [
    "z = z.reshape(xx.shape)\n",
    "plt.figure()\n",
    "plt.pcolormesh(xx, yy, z, cmap=cmap_light)\n",
    "\n",
    "    # Plot also the training points\n",
    "plt.scatter(x[:, 0], x[:, 1], c=y, cmap=cmap_bold,\n",
    "                edgecolor='k', s=20)\n",
    "plt.xlim(xx.min(), xx.max())\n",
    "plt.ylim(yy.min(), yy.max())\n",
    "plt.title(\"3-Class classification (k = %i, weights = '%s')\" % (n_neighbors, weights))"
   ]
  },
  {
   "cell_type": "code",
   "execution_count": 77,
   "metadata": {},
   "outputs": [],
   "source": [
    "plt.show()"
   ]
  },
  {
   "cell_type": "code",
   "execution_count": 78,
   "metadata": {},
   "outputs": [
    {
     "name": "stdout",
     "output_type": "stream",
     "text": [
      "hi\n"
     ]
    }
   ],
   "source": [
    "print(\"hi\")"
   ]
  },
  {
   "cell_type": "code",
   "execution_count": null,
   "metadata": {},
   "outputs": [],
   "source": []
  }
 ],
 "metadata": {
  "kernelspec": {
   "display_name": "Python 3",
   "language": "python",
   "name": "python3"
  },
  "language_info": {
   "codemirror_mode": {
    "name": "ipython",
    "version": 3
   },
   "file_extension": ".py",
   "mimetype": "text/x-python",
   "name": "python",
   "nbconvert_exporter": "python",
   "pygments_lexer": "ipython3",
   "version": "3.6.5"
  }
 },
 "nbformat": 4,
 "nbformat_minor": 2
}

   "source": [
    "import numpy as np\n",
    "import matplotlib.pyplot as plt\n",
    "from matplotlib.colors import ListedColormap\n",
    "from sklearn import neighbors, datasets"
   ]
  },
  {
   "cell_type": "code",
   "execution_count": 11,
   "metadata": {},
   "outputs": [],
   "source": [
    "iris = datasets.load_iris()"
   ]
  },
  {
   "cell_type": "code",
   "execution_count": 35,
   "metadata": {},
   "outputs": [],
   "source": [
    "x = iris.data[:,:2]\n",
    "y = iris.target"
   ]
  },
  {
   "cell_type": "code",
   "execution_count": 38,
   "metadata": {},
   "outputs": [],
   "source": [
    "#iris"
   ]
  },
  {
   "cell_type": "code",
   "execution_count": null,
   "metadata": {},
   "outputs": [],
   "source": [
    "#Training(Fitting)"
   ]
  },
  {
   "cell_type": "code",
   "execution_count": 40,
   "metadata": {},
   "outputs": [],
   "source": [
    "n_neighbors = 15"
   ]
  },
  {
   "cell_type": "code",
   "execution_count": null,
   "metadata": {},
   "outputs": [],
   "source": [
    "# building the classifier"
   ]
  },
  {
   "cell_type": "code",
   "execution_count": 66,
   "metadata": {},
   "outputs": [],
   "source": [
    "#for weights in ['uniform', 'distance']:\n",
    "\n",
    "weights = 'uniforms'"
   ]
  },
  {
   "cell_type": "code",
   "execution_count": 67,
   "metadata": {},
   "outputs": [],
   "source": [
    "clf = neighbors.KNeighborsClassifier(n_neighbors, weights='uniform', algorithm='kd_tree')"
   ]
  },
  {
   "cell_type": "code",
   "execution_count": 68,
   "metadata": {},
   "outputs": [
    {
     "data": {
      "text/plain": [
       "KNeighborsClassifier(algorithm='kd_tree', leaf_size=30, metric='minkowski',\n",
       "           metric_params=None, n_jobs=1, n_neighbors=15, p=2,\n",
       "           weights='uniform')"
      ]
     },
     "execution_count": 68,
     "metadata": {},
     "output_type": "execute_result"
    }
   ],
   "source": [
    "clf.fit(x,y)"
   ]
  },
  {
   "cell_type": "code",
   "execution_count": 69,
   "metadata": {},
   "outputs": [],
   "source": [
    "#Testing"
   ]
  },
  {
   "cell_type": "code",
   "execution_count": 70,
   "metadata": {},
   "outputs": [],
   "source": [
    "n_neighbors = 15"
   ]
  },
  {
   "cell_type": "code",
   "execution_count": 71,
   "metadata": {},
   "outputs": [],
   "source": [
    "x_min, x_max = x[:,0].min()-1, x[:,0].max()+1\n",
    "y_min, y_max = x[:,1].min()-1, x[:,1].max()+1\n",
    "xx ,yy = np.meshgrid(np.arange(x_min, x_max, 0.02), np.arange(y_min, y_max, 0.02))"
   ]
  },
  {
   "cell_type": "code",
   "execution_count": 72,
   "metadata": {},
   "outputs": [],
   "source": [
    "z = clf.predict(np.c_[xx.ravel(), yy.ravel()])"
   ]
  },
  {
   "cell_type": "code",
   "execution_count": 73,
   "metadata": {},
   "outputs": [
    {
     "data": {
      "text/plain": [
       "array([0, 0, 0, ..., 2, 2, 2])"
      ]
     },
     "execution_count": 73,
     "metadata": {},
     "output_type": "execute_result"
    }
   ],
   "source": [
    "z"
   ]
  },
  {
   "cell_type": "code",
   "execution_count": 74,
   "metadata": {},
   "outputs": [],
   "source": [
    "cmap_light = ListedColormap(['#FFAAAA', '#AAFFAA', '#AAAAFF'])\n",
    "cmap_bold = ListedColormap(['#FF0000', '#00FF00', '#0000FF'])"
   ]
  },
  {
   "cell_type": "code",
   "execution_count": 81,
   "metadata": {},
   "outputs": [
    {
     "data": {
      "text/plain": [
       "Text(0.5,1,\"3-Class classification (k = 15, weights = 'uniforms')\")"
      ]
     },
     "execution_count": 81,
     "metadata": {},
     "output_type": "execute_result"
    },
    {
     "data": {
      "image/png": "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\n",
      "text/plain": [
       "<Figure size 432x288 with 1 Axes>"
      ]
     },
     "metadata": {},
     "output_type": "display_data"
    }
   ],
   "source": [
    "z = z.reshape(xx.shape)\n",
    "plt.figure()\n",
    "plt.pcolormesh(xx, yy, z, cmap=cmap_light)\n",
    "\n",
    "    # Plot also the training points\n",
    "plt.scatter(x[:, 0], x[:, 1], c=y, cmap=cmap_bold,\n",
    "                edgecolor='k', s=20)\n",
    "plt.xlim(xx.min(), xx.max())\n",
    "plt.ylim(yy.min(), yy.max())\n",
    "plt.title(\"3-Class classification (k = %i, weights = '%s')\" % (n_neighbors, weights))"
   ]
  },
  {
   "cell_type": "code",
   "execution_count": 77,
   "metadata": {},
   "outputs": [],
   "source": [
    "plt.show()"
   ]
  },
  {
   "cell_type": "code",
   "execution_count": 78,
   "metadata": {},
   "outputs": [
    {
     "name": "stdout",
     "output_type": "stream",
     "text": [
      "hi\n"
     ]
    }
   ],
   "source": [
    "print(\"hi\")"
   ]
  },
  {
   "cell_type": "code",
   "execution_count": null,
   "metadata": {},
   "outputs": [],
   "source": []
  }
 ],
 "metadata": {
  "kernelspec": {
   "display_name": "Python 3",
   "language": "python",
   "name": "python3"
  },
  "language_info": {
   "codemirror_mode": {
    "name": "ipython",
    "version": 3
   },
   "file_extension": ".py",
   "mimetype": "text/x-python",
   "name": "python",
   "nbconvert_exporter": "python",
   "pygments_lexer": "ipython3",
   "version": "3.6.5"
  }
 },
 "nbformat": 4,
 "nbformat_minor": 2
}
